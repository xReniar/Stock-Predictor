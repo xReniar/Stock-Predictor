{
 "cells": [
  {
   "cell_type": "code",
   "execution_count": 1,
   "metadata": {},
   "outputs": [],
   "source": [
    "import numpy as np\n",
    "import pandas as pd\n",
    "from sklearn.model_selection import train_test_split\n",
    "from sklearn.metrics import mean_squared_error, r2_score\n",
    "from sklearn.linear_model import LinearRegression\n",
    "import yfinance as yf"
   ]
  },
  {
   "cell_type": "code",
   "execution_count": 2,
   "metadata": {},
   "outputs": [],
   "source": [
    "# Download stock price data\n",
    "def download_stock_data(ticker:str, start_date:str, end_date:str) -> pd.Series:\n",
    "    stock_data = yf.download(ticker,start=start_date, end=end_date)\n",
    "    return stock_data['Close']"
   ]
  },
  {
   "cell_type": "code",
   "execution_count": 3,
   "metadata": {},
   "outputs": [],
   "source": [
    "# Preprocess data and create input sequences\n",
    "def preprocess_data(data: pd.Series, sequence_length: int):\n",
    "    sequences = []\n",
    "    for i in range(len(data) - sequence_length):\n",
    "        sequence = data[i:i+sequence_length].values\n",
    "        target = data[i+sequence_length]\n",
    "        sequences.append((sequence, target))\n",
    "    return sequences"
   ]
  },
  {
   "cell_type": "code",
   "execution_count": 4,
   "metadata": {},
   "outputs": [],
   "source": [
    "# Split data into training and testing sets\n",
    "def split_data(data, test_size=0.2):\n",
    "    return train_test_split(data,\n",
    "                            test_size=test_size,\n",
    "                            shuffle=False)"
   ]
  },
  {
   "cell_type": "code",
   "execution_count": 5,
   "metadata": {},
   "outputs": [],
   "source": [
    "# Train linear regression model\n",
    "def train_model(X_train, y_train):\n",
    "    model = LinearRegression()\n",
    "    model.fit(X_train, y_train)\n",
    "    return model"
   ]
  },
  {
   "cell_type": "code",
   "execution_count": 6,
   "metadata": {},
   "outputs": [],
   "source": [
    "# Evaluate model on test data\n",
    "def evaluate_model(model: LinearRegression | None, X_test, y_test):\n",
    "    return mean_squared_error(y_test,model.predict(X_test))"
   ]
  },
  {
   "cell_type": "code",
   "execution_count": 7,
   "metadata": {},
   "outputs": [],
   "source": [
    "def get_current_price(symbol:str) -> np.float64:\n",
    "    ticker = yf.Ticker(symbol)\n",
    "    todays_data = ticker.history(period='1d')\n",
    "    return todays_data['Close'][0]"
   ]
  },
  {
   "cell_type": "code",
   "execution_count": 8,
   "metadata": {},
   "outputs": [],
   "source": [
    "start_date = '2010-05-4'\n",
    "end_date = '2024-06-4'\n",
    "ticker=\"AMZN\""
   ]
  },
  {
   "cell_type": "code",
   "execution_count": 9,
   "metadata": {},
   "outputs": [
    {
     "name": "stderr",
     "output_type": "stream",
     "text": [
      "[*********************100%%**********************]  1 of 1 completed\n"
     ]
    },
    {
     "data": {
      "text/plain": [
       "Date\n",
       "2010-05-04      6.491500\n",
       "2010-05-05      6.546500\n",
       "2010-05-06      6.435500\n",
       "2010-05-07      6.249000\n",
       "2010-05-10      6.564500\n",
       "                 ...    \n",
       "2024-05-28    182.149994\n",
       "2024-05-29    182.020004\n",
       "2024-05-30    179.320007\n",
       "2024-05-31    176.440002\n",
       "2024-06-03    178.339996\n",
       "Name: Close, Length: 3545, dtype: float64"
      ]
     },
     "execution_count": 9,
     "metadata": {},
     "output_type": "execute_result"
    }
   ],
   "source": [
    "stock_data = download_stock_data(ticker, start_date, end_date)\n",
    "stock_data"
   ]
  },
  {
   "cell_type": "code",
   "execution_count": 10,
   "metadata": {},
   "outputs": [
    {
     "name": "stderr",
     "output_type": "stream",
     "text": [
      "/tmp/ipykernel_56059/3598256244.py:4: FutureWarning: Series.__getitem__ treating keys as positions is deprecated. In a future version, integer keys will always be treated as labels (consistent with DataFrame behavior). To access a value by position, use `ser.iloc[pos]`\n",
      "  return todays_data['Close'][0]\n",
      "/tmp/ipykernel_56059/2743888461.py:6: FutureWarning: Series.__getitem__ treating keys as positions is deprecated. In a future version, integer keys will always be treated as labels (consistent with DataFrame behavior). To access a value by position, use `ser.iloc[pos]`\n",
      "  target = data[i+sequence_length]\n"
     ]
    }
   ],
   "source": [
    "current_price=get_current_price(ticker)\n",
    "\n",
    "# Preprocess data\n",
    "sequence_length = 10\n",
    "data_sequences = preprocess_data(stock_data,sequence_length)\n",
    "\n",
    "# Split data into training and testing sets\n",
    "train_data, test_data = split_data(data_sequences)\n",
    "\n",
    "# Prepare training data\n",
    "X_train = np.array([item[0] for item in train_data])\n",
    "y_train = np.array([item[1] for item in train_data])\n",
    "\n",
    "# Prepare testing data\n",
    "X_test = np.array([item[0] for item in test_data])\n",
    "y_test = np.array([item[1] for item in test_data])\n",
    "\n",
    "# Train linear regression model\n",
    "model = train_model(X_train, y_train)"
   ]
  },
  {
   "cell_type": "code",
   "execution_count": 11,
   "metadata": {},
   "outputs": [
    {
     "name": "stdout",
     "output_type": "stream",
     "text": [
      "AMZN Stock Prices\n",
      "\n",
      "Stock Price Now:  181.21\n",
      "Predicted Stock Price:  176.75\n",
      "Mean Squared Error on Test Data:  9.77\n"
     ]
    }
   ],
   "source": [
    "# Example of using the trained model for prediction\n",
    "last_sequence = X_test[-1].reshape(1, -1)\n",
    "predicted_price = model.predict(last_sequence)[0]\n",
    "print(f'{ticker} Stock Prices')\n",
    "print(f'\\nStock Price Now: {current_price: 0.2f}')\n",
    "print(f'Predicted Stock Price: {predicted_price: 0.2f}')\n",
    "\n",
    "# Evaluate model using Mean Squared Error\n",
    "mse = evaluate_model(model, X_test, y_test)\n",
    "\n",
    "# Evaluate model using R-squared\n",
    "r2 = r2_score(y_test, model.predict(X_test))\n",
    "\n",
    "# Calculate Adjusted R-squared (adjusts for number of features)\n",
    "n = X_test.shape[0]  # Number of samples\n",
    "p = X_test.shape[1]  # Number of features\n",
    "\n",
    "adjusted_r2 = 1 - (1 - r2) * (n - 1) / (n - p - 1)\n",
    "\n",
    "# Print the R-squared and adjusted R-squared\n",
    "#print(f'R-squared: {r2:.4f}')\n",
    "#print(f'Adjusted R-squared: {adjusted_r2:.2f}')\n",
    "print(f'Mean Squared Error on Test Data: {mse: 0.2f}')"
   ]
  }
 ],
 "metadata": {
  "kernelspec": {
   "display_name": "venv",
   "language": "python",
   "name": "python3"
  },
  "language_info": {
   "codemirror_mode": {
    "name": "ipython",
    "version": 3
   },
   "file_extension": ".py",
   "mimetype": "text/x-python",
   "name": "python",
   "nbconvert_exporter": "python",
   "pygments_lexer": "ipython3",
   "version": "3.10.12"
  }
 },
 "nbformat": 4,
 "nbformat_minor": 2
}
