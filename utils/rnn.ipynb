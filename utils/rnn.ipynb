{
 "cells": [
  {
   "cell_type": "code",
   "execution_count": 32,
   "metadata": {},
   "outputs": [],
   "source": [
    "import pandas as pd\n",
    "import numpy as np\n",
    "import matplotlib.pyplot as plt\n",
    "import torch\n",
    "import torch.nn as nn\n",
    "import torch.nn.functional as F\n",
    "from torch.utils.data import DataLoader, Dataset\n",
    "import yfinance as yf\n",
    "from sklearn.metrics import mean_squared_error, r2_score\n",
    "from sklearn.preprocessing import MinMaxScaler\n",
    "from datetime import datetime,timedelta\n",
    "from copy import deepcopy as dc\n",
    "\n",
    "device = 'cuda:0' if torch.cuda.is_available() else 'cpu'"
   ]
  },
  {
   "cell_type": "markdown",
   "metadata": {},
   "source": [
    "# Download data"
   ]
  },
  {
   "cell_type": "code",
   "execution_count": 33,
   "metadata": {},
   "outputs": [
    {
     "name": "stderr",
     "output_type": "stream",
     "text": [
      "[*********************100%%**********************]  1 of 1 completed\n"
     ]
    },
    {
     "data": {
      "text/html": [
       "<div>\n",
       "<style scoped>\n",
       "    .dataframe tbody tr th:only-of-type {\n",
       "        vertical-align: middle;\n",
       "    }\n",
       "\n",
       "    .dataframe tbody tr th {\n",
       "        vertical-align: top;\n",
       "    }\n",
       "\n",
       "    .dataframe thead th {\n",
       "        text-align: right;\n",
       "    }\n",
       "</style>\n",
       "<table border=\"1\" class=\"dataframe\">\n",
       "  <thead>\n",
       "    <tr style=\"text-align: right;\">\n",
       "      <th></th>\n",
       "      <th>Open</th>\n",
       "      <th>High</th>\n",
       "      <th>Low</th>\n",
       "      <th>Close</th>\n",
       "      <th>Adj Close</th>\n",
       "      <th>Volume</th>\n",
       "    </tr>\n",
       "    <tr>\n",
       "      <th>Datetime</th>\n",
       "      <th></th>\n",
       "      <th></th>\n",
       "      <th></th>\n",
       "      <th></th>\n",
       "      <th></th>\n",
       "      <th></th>\n",
       "    </tr>\n",
       "  </thead>\n",
       "  <tbody>\n",
       "    <tr>\n",
       "      <th>2022-07-04 00:00:00+01:00</th>\n",
       "      <td>1.043732</td>\n",
       "      <td>1.044277</td>\n",
       "      <td>1.043297</td>\n",
       "      <td>1.043623</td>\n",
       "      <td>1.043623</td>\n",
       "      <td>0</td>\n",
       "    </tr>\n",
       "    <tr>\n",
       "      <th>2022-07-04 01:00:00+01:00</th>\n",
       "      <td>1.043841</td>\n",
       "      <td>1.044714</td>\n",
       "      <td>1.043515</td>\n",
       "      <td>1.043732</td>\n",
       "      <td>1.043732</td>\n",
       "      <td>0</td>\n",
       "    </tr>\n",
       "    <tr>\n",
       "      <th>2022-07-04 02:00:00+01:00</th>\n",
       "      <td>1.043732</td>\n",
       "      <td>1.044168</td>\n",
       "      <td>1.042970</td>\n",
       "      <td>1.043732</td>\n",
       "      <td>1.043732</td>\n",
       "      <td>0</td>\n",
       "    </tr>\n",
       "    <tr>\n",
       "      <th>2022-07-04 03:00:00+01:00</th>\n",
       "      <td>1.043515</td>\n",
       "      <td>1.043950</td>\n",
       "      <td>1.042970</td>\n",
       "      <td>1.043515</td>\n",
       "      <td>1.043515</td>\n",
       "      <td>0</td>\n",
       "    </tr>\n",
       "    <tr>\n",
       "      <th>2022-07-04 04:00:00+01:00</th>\n",
       "      <td>1.043515</td>\n",
       "      <td>1.044059</td>\n",
       "      <td>1.042862</td>\n",
       "      <td>1.042970</td>\n",
       "      <td>1.042970</td>\n",
       "      <td>0</td>\n",
       "    </tr>\n",
       "    <tr>\n",
       "      <th>...</th>\n",
       "      <td>...</td>\n",
       "      <td>...</td>\n",
       "      <td>...</td>\n",
       "      <td>...</td>\n",
       "      <td>...</td>\n",
       "      <td>...</td>\n",
       "    </tr>\n",
       "    <tr>\n",
       "      <th>2024-07-02 14:00:00+01:00</th>\n",
       "      <td>1.073537</td>\n",
       "      <td>1.074807</td>\n",
       "      <td>1.073422</td>\n",
       "      <td>1.074576</td>\n",
       "      <td>1.074576</td>\n",
       "      <td>0</td>\n",
       "    </tr>\n",
       "    <tr>\n",
       "      <th>2024-07-02 15:00:00+01:00</th>\n",
       "      <td>1.074114</td>\n",
       "      <td>1.074576</td>\n",
       "      <td>1.072846</td>\n",
       "      <td>1.074576</td>\n",
       "      <td>1.074576</td>\n",
       "      <td>0</td>\n",
       "    </tr>\n",
       "    <tr>\n",
       "      <th>2024-07-02 16:00:00+01:00</th>\n",
       "      <td>1.074691</td>\n",
       "      <td>1.074691</td>\n",
       "      <td>1.073653</td>\n",
       "      <td>1.073883</td>\n",
       "      <td>1.073883</td>\n",
       "      <td>0</td>\n",
       "    </tr>\n",
       "    <tr>\n",
       "      <th>2024-07-02 17:00:00+01:00</th>\n",
       "      <td>1.073883</td>\n",
       "      <td>1.073883</td>\n",
       "      <td>1.073422</td>\n",
       "      <td>1.073422</td>\n",
       "      <td>1.073422</td>\n",
       "      <td>0</td>\n",
       "    </tr>\n",
       "    <tr>\n",
       "      <th>2024-07-02 18:00:00+01:00</th>\n",
       "      <td>1.073537</td>\n",
       "      <td>1.073883</td>\n",
       "      <td>1.073537</td>\n",
       "      <td>1.073883</td>\n",
       "      <td>1.073883</td>\n",
       "      <td>0</td>\n",
       "    </tr>\n",
       "  </tbody>\n",
       "</table>\n",
       "<p>12385 rows × 6 columns</p>\n",
       "</div>"
      ],
      "text/plain": [
       "                               Open      High       Low     Close  Adj Close  \\\n",
       "Datetime                                                                       \n",
       "2022-07-04 00:00:00+01:00  1.043732  1.044277  1.043297  1.043623   1.043623   \n",
       "2022-07-04 01:00:00+01:00  1.043841  1.044714  1.043515  1.043732   1.043732   \n",
       "2022-07-04 02:00:00+01:00  1.043732  1.044168  1.042970  1.043732   1.043732   \n",
       "2022-07-04 03:00:00+01:00  1.043515  1.043950  1.042970  1.043515   1.043515   \n",
       "2022-07-04 04:00:00+01:00  1.043515  1.044059  1.042862  1.042970   1.042970   \n",
       "...                             ...       ...       ...       ...        ...   \n",
       "2024-07-02 14:00:00+01:00  1.073537  1.074807  1.073422  1.074576   1.074576   \n",
       "2024-07-02 15:00:00+01:00  1.074114  1.074576  1.072846  1.074576   1.074576   \n",
       "2024-07-02 16:00:00+01:00  1.074691  1.074691  1.073653  1.073883   1.073883   \n",
       "2024-07-02 17:00:00+01:00  1.073883  1.073883  1.073422  1.073422   1.073422   \n",
       "2024-07-02 18:00:00+01:00  1.073537  1.073883  1.073537  1.073883   1.073883   \n",
       "\n",
       "                           Volume  \n",
       "Datetime                           \n",
       "2022-07-04 00:00:00+01:00       0  \n",
       "2022-07-04 01:00:00+01:00       0  \n",
       "2022-07-04 02:00:00+01:00       0  \n",
       "2022-07-04 03:00:00+01:00       0  \n",
       "2022-07-04 04:00:00+01:00       0  \n",
       "...                           ...  \n",
       "2024-07-02 14:00:00+01:00       0  \n",
       "2024-07-02 15:00:00+01:00       0  \n",
       "2024-07-02 16:00:00+01:00       0  \n",
       "2024-07-02 17:00:00+01:00       0  \n",
       "2024-07-02 18:00:00+01:00       0  \n",
       "\n",
       "[12385 rows x 6 columns]"
      ]
     },
     "execution_count": 33,
     "metadata": {},
     "output_type": "execute_result"
    }
   ],
   "source": [
    "ticker=\"EURUSD=X\"\n",
    "current_date = datetime.now()\n",
    "data: pd.DataFrame = yf.download(ticker,\n",
    "                                 start=current_date - timedelta(days=730),\n",
    "                                 end=current_date,\n",
    "                                 interval=\"1h\")\n",
    "data"
   ]
  },
  {
   "cell_type": "code",
   "execution_count": 34,
   "metadata": {},
   "outputs": [
    {
     "name": "stdout",
     "output_type": "stream",
     "text": [
      "<class 'pandas.core.frame.DataFrame'>\n",
      "DatetimeIndex: 12385 entries, 2022-07-04 00:00:00+01:00 to 2024-07-02 18:00:00+01:00\n",
      "Data columns (total 6 columns):\n",
      " #   Column     Non-Null Count  Dtype  \n",
      "---  ------     --------------  -----  \n",
      " 0   Open       12385 non-null  float64\n",
      " 1   High       12385 non-null  float64\n",
      " 2   Low        12385 non-null  float64\n",
      " 3   Close      12385 non-null  float64\n",
      " 4   Adj Close  12385 non-null  float64\n",
      " 5   Volume     12385 non-null  int64  \n",
      "dtypes: float64(5), int64(1)\n",
      "memory usage: 677.3 KB\n"
     ]
    }
   ],
   "source": [
    "data.info()"
   ]
  },
  {
   "cell_type": "markdown",
   "metadata": {},
   "source": [
    "# Data processing"
   ]
  },
  {
   "cell_type": "code",
   "execution_count": 35,
   "metadata": {},
   "outputs": [
    {
     "data": {
      "text/html": [
       "<div>\n",
       "<style scoped>\n",
       "    .dataframe tbody tr th:only-of-type {\n",
       "        vertical-align: middle;\n",
       "    }\n",
       "\n",
       "    .dataframe tbody tr th {\n",
       "        vertical-align: top;\n",
       "    }\n",
       "\n",
       "    .dataframe thead th {\n",
       "        text-align: right;\n",
       "    }\n",
       "</style>\n",
       "<table border=\"1\" class=\"dataframe\">\n",
       "  <thead>\n",
       "    <tr style=\"text-align: right;\">\n",
       "      <th></th>\n",
       "      <th>Open</th>\n",
       "      <th>High</th>\n",
       "      <th>Low</th>\n",
       "      <th>Close</th>\n",
       "      <th>Date</th>\n",
       "      <th>Time</th>\n",
       "    </tr>\n",
       "  </thead>\n",
       "  <tbody>\n",
       "    <tr>\n",
       "      <th>0</th>\n",
       "      <td>1.043732</td>\n",
       "      <td>1.044277</td>\n",
       "      <td>1.043297</td>\n",
       "      <td>1.043623</td>\n",
       "      <td>2022-07-04</td>\n",
       "      <td>0</td>\n",
       "    </tr>\n",
       "    <tr>\n",
       "      <th>1</th>\n",
       "      <td>1.043841</td>\n",
       "      <td>1.044714</td>\n",
       "      <td>1.043515</td>\n",
       "      <td>1.043732</td>\n",
       "      <td>2022-07-04</td>\n",
       "      <td>1</td>\n",
       "    </tr>\n",
       "    <tr>\n",
       "      <th>2</th>\n",
       "      <td>1.043732</td>\n",
       "      <td>1.044168</td>\n",
       "      <td>1.042970</td>\n",
       "      <td>1.043732</td>\n",
       "      <td>2022-07-04</td>\n",
       "      <td>2</td>\n",
       "    </tr>\n",
       "    <tr>\n",
       "      <th>3</th>\n",
       "      <td>1.043515</td>\n",
       "      <td>1.043950</td>\n",
       "      <td>1.042970</td>\n",
       "      <td>1.043515</td>\n",
       "      <td>2022-07-04</td>\n",
       "      <td>3</td>\n",
       "    </tr>\n",
       "    <tr>\n",
       "      <th>4</th>\n",
       "      <td>1.043515</td>\n",
       "      <td>1.044059</td>\n",
       "      <td>1.042862</td>\n",
       "      <td>1.042970</td>\n",
       "      <td>2022-07-04</td>\n",
       "      <td>4</td>\n",
       "    </tr>\n",
       "    <tr>\n",
       "      <th>...</th>\n",
       "      <td>...</td>\n",
       "      <td>...</td>\n",
       "      <td>...</td>\n",
       "      <td>...</td>\n",
       "      <td>...</td>\n",
       "      <td>...</td>\n",
       "    </tr>\n",
       "    <tr>\n",
       "      <th>12380</th>\n",
       "      <td>1.073537</td>\n",
       "      <td>1.074807</td>\n",
       "      <td>1.073422</td>\n",
       "      <td>1.074576</td>\n",
       "      <td>2024-07-02</td>\n",
       "      <td>14</td>\n",
       "    </tr>\n",
       "    <tr>\n",
       "      <th>12381</th>\n",
       "      <td>1.074114</td>\n",
       "      <td>1.074576</td>\n",
       "      <td>1.072846</td>\n",
       "      <td>1.074576</td>\n",
       "      <td>2024-07-02</td>\n",
       "      <td>15</td>\n",
       "    </tr>\n",
       "    <tr>\n",
       "      <th>12382</th>\n",
       "      <td>1.074691</td>\n",
       "      <td>1.074691</td>\n",
       "      <td>1.073653</td>\n",
       "      <td>1.073883</td>\n",
       "      <td>2024-07-02</td>\n",
       "      <td>16</td>\n",
       "    </tr>\n",
       "    <tr>\n",
       "      <th>12383</th>\n",
       "      <td>1.073883</td>\n",
       "      <td>1.073883</td>\n",
       "      <td>1.073422</td>\n",
       "      <td>1.073422</td>\n",
       "      <td>2024-07-02</td>\n",
       "      <td>17</td>\n",
       "    </tr>\n",
       "    <tr>\n",
       "      <th>12384</th>\n",
       "      <td>1.073537</td>\n",
       "      <td>1.073883</td>\n",
       "      <td>1.073537</td>\n",
       "      <td>1.073883</td>\n",
       "      <td>2024-07-02</td>\n",
       "      <td>18</td>\n",
       "    </tr>\n",
       "  </tbody>\n",
       "</table>\n",
       "<p>12385 rows × 6 columns</p>\n",
       "</div>"
      ],
      "text/plain": [
       "           Open      High       Low     Close        Date  Time\n",
       "0      1.043732  1.044277  1.043297  1.043623  2022-07-04     0\n",
       "1      1.043841  1.044714  1.043515  1.043732  2022-07-04     1\n",
       "2      1.043732  1.044168  1.042970  1.043732  2022-07-04     2\n",
       "3      1.043515  1.043950  1.042970  1.043515  2022-07-04     3\n",
       "4      1.043515  1.044059  1.042862  1.042970  2022-07-04     4\n",
       "...         ...       ...       ...       ...         ...   ...\n",
       "12380  1.073537  1.074807  1.073422  1.074576  2024-07-02    14\n",
       "12381  1.074114  1.074576  1.072846  1.074576  2024-07-02    15\n",
       "12382  1.074691  1.074691  1.073653  1.073883  2024-07-02    16\n",
       "12383  1.073883  1.073883  1.073422  1.073422  2024-07-02    17\n",
       "12384  1.073537  1.073883  1.073537  1.073883  2024-07-02    18\n",
       "\n",
       "[12385 rows x 6 columns]"
      ]
     },
     "execution_count": 35,
     "metadata": {},
     "output_type": "execute_result"
    }
   ],
   "source": [
    "data = data.reset_index()\n",
    "data[\"Datetime\"] = pd.to_datetime(data[\"Datetime\"])\n",
    "data[\"Date\"] = data[\"Datetime\"].dt.date\n",
    "data[\"Time\"] = data[\"Datetime\"].dt.hour\n",
    "data = data.drop(columns=[\"Volume\",\"Adj Close\",\"Datetime\"])\n",
    "data"
   ]
  },
  {
   "cell_type": "code",
   "execution_count": 36,
   "metadata": {},
   "outputs": [],
   "source": [
    "def sma(data: pd.DataFrame, period: int):\n",
    "    data[f\"SMA-{period}\"] = data[\"Close\"].rolling(window=period).mean()\n",
    "\n",
    "def std(data: pd.DataFrame, period:int):\n",
    "    data[f\"STD-{period}\"] = data[\"Close\"].rolling(window=period).std()\n",
    "\n",
    "def bb(data: pd.DataFrame, period: int):\n",
    "    data[f'Lower_BB-{period}'] = data[f\"SMA-{period}\"] - 2 * data[f\"STD-{period}\"]\n",
    "    data[f'Upper_BB-{period}'] = data[f\"SMA-{period}\"] + 2 * data[f\"STD-{period}\"]\n",
    "\n",
    "def ema(data: pd.DataFrame, period: int):\n",
    "    data[f\"EMA-{period}\"] = data[\"Close\"].ewm(span=period,adjust=False).mean()\n",
    "\n",
    "def rsi(data: pd.DataFrame, period: int):\n",
    "    # \n",
    "    delta = data[\"Close\"].diff()\n",
    "    delta = delta.dropna()\n",
    "\n",
    "    gain, loss = delta.copy(), delta.copy()\n",
    "    gain[gain < 0], loss[loss > 0] = 0, 0\n",
    "\n",
    "    avg_gain = gain.ewm(com=14, min_periods=period).mean()\n",
    "    avg_loss = abs(loss.ewm(com = 14, min_periods=period).mean())\n",
    "\n",
    "    data[f\"RSI-{period}\"] = 100 - (100/(1 + (avg_gain/avg_loss)))\n"
   ]
  },
  {
   "cell_type": "code",
   "execution_count": 37,
   "metadata": {},
   "outputs": [
    {
     "data": {
      "text/html": [
       "<div>\n",
       "<style scoped>\n",
       "    .dataframe tbody tr th:only-of-type {\n",
       "        vertical-align: middle;\n",
       "    }\n",
       "\n",
       "    .dataframe tbody tr th {\n",
       "        vertical-align: top;\n",
       "    }\n",
       "\n",
       "    .dataframe thead th {\n",
       "        text-align: right;\n",
       "    }\n",
       "</style>\n",
       "<table border=\"1\" class=\"dataframe\">\n",
       "  <thead>\n",
       "    <tr style=\"text-align: right;\">\n",
       "      <th></th>\n",
       "      <th>High</th>\n",
       "      <th>Low</th>\n",
       "      <th>Time</th>\n",
       "      <th>SMA-20</th>\n",
       "      <th>STD-20</th>\n",
       "      <th>Lower_BB-20</th>\n",
       "      <th>Upper_BB-20</th>\n",
       "      <th>RSI-20</th>\n",
       "      <th>Close</th>\n",
       "    </tr>\n",
       "    <tr>\n",
       "      <th>Date</th>\n",
       "      <th></th>\n",
       "      <th></th>\n",
       "      <th></th>\n",
       "      <th></th>\n",
       "      <th></th>\n",
       "      <th></th>\n",
       "      <th></th>\n",
       "      <th></th>\n",
       "      <th></th>\n",
       "    </tr>\n",
       "  </thead>\n",
       "  <tbody>\n",
       "    <tr>\n",
       "      <th>2022-07-04</th>\n",
       "      <td>1.043079</td>\n",
       "      <td>1.042427</td>\n",
       "      <td>20</td>\n",
       "      <td>1.043630</td>\n",
       "      <td>0.001015</td>\n",
       "      <td>1.041600</td>\n",
       "      <td>1.045659</td>\n",
       "      <td>40.953307</td>\n",
       "      <td>1.042644</td>\n",
       "    </tr>\n",
       "    <tr>\n",
       "      <th>2022-07-04</th>\n",
       "      <td>1.042862</td>\n",
       "      <td>1.042427</td>\n",
       "      <td>21</td>\n",
       "      <td>1.043570</td>\n",
       "      <td>0.001043</td>\n",
       "      <td>1.041483</td>\n",
       "      <td>1.045657</td>\n",
       "      <td>40.088042</td>\n",
       "      <td>1.042535</td>\n",
       "    </tr>\n",
       "    <tr>\n",
       "      <th>2022-07-04</th>\n",
       "      <td>1.042862</td>\n",
       "      <td>1.042210</td>\n",
       "      <td>22</td>\n",
       "      <td>1.043505</td>\n",
       "      <td>0.001073</td>\n",
       "      <td>1.041359</td>\n",
       "      <td>1.045651</td>\n",
       "      <td>39.201599</td>\n",
       "      <td>1.042427</td>\n",
       "    </tr>\n",
       "    <tr>\n",
       "      <th>2022-07-04</th>\n",
       "      <td>1.043297</td>\n",
       "      <td>1.042535</td>\n",
       "      <td>23</td>\n",
       "      <td>1.043478</td>\n",
       "      <td>0.001080</td>\n",
       "      <td>1.041318</td>\n",
       "      <td>1.045637</td>\n",
       "      <td>45.647253</td>\n",
       "      <td>1.042970</td>\n",
       "    </tr>\n",
       "    <tr>\n",
       "      <th>2022-07-05</th>\n",
       "      <td>1.043841</td>\n",
       "      <td>1.042970</td>\n",
       "      <td>0</td>\n",
       "      <td>1.043510</td>\n",
       "      <td>0.001073</td>\n",
       "      <td>1.041363</td>\n",
       "      <td>1.045657</td>\n",
       "      <td>52.173504</td>\n",
       "      <td>1.043623</td>\n",
       "    </tr>\n",
       "    <tr>\n",
       "      <th>...</th>\n",
       "      <td>...</td>\n",
       "      <td>...</td>\n",
       "      <td>...</td>\n",
       "      <td>...</td>\n",
       "      <td>...</td>\n",
       "      <td>...</td>\n",
       "      <td>...</td>\n",
       "      <td>...</td>\n",
       "      <td>...</td>\n",
       "    </tr>\n",
       "    <tr>\n",
       "      <th>2024-07-02</th>\n",
       "      <td>1.074807</td>\n",
       "      <td>1.073422</td>\n",
       "      <td>14</td>\n",
       "      <td>1.073342</td>\n",
       "      <td>0.000878</td>\n",
       "      <td>1.071587</td>\n",
       "      <td>1.075098</td>\n",
       "      <td>57.674337</td>\n",
       "      <td>1.074576</td>\n",
       "    </tr>\n",
       "    <tr>\n",
       "      <th>2024-07-02</th>\n",
       "      <td>1.074576</td>\n",
       "      <td>1.072846</td>\n",
       "      <td>15</td>\n",
       "      <td>1.073411</td>\n",
       "      <td>0.000919</td>\n",
       "      <td>1.071574</td>\n",
       "      <td>1.075249</td>\n",
       "      <td>57.674337</td>\n",
       "      <td>1.074576</td>\n",
       "    </tr>\n",
       "    <tr>\n",
       "      <th>2024-07-02</th>\n",
       "      <td>1.074691</td>\n",
       "      <td>1.073653</td>\n",
       "      <td>16</td>\n",
       "      <td>1.073394</td>\n",
       "      <td>0.000906</td>\n",
       "      <td>1.071582</td>\n",
       "      <td>1.075206</td>\n",
       "      <td>52.821508</td>\n",
       "      <td>1.073883</td>\n",
       "    </tr>\n",
       "    <tr>\n",
       "      <th>2024-07-02</th>\n",
       "      <td>1.073883</td>\n",
       "      <td>1.073422</td>\n",
       "      <td>17</td>\n",
       "      <td>1.073348</td>\n",
       "      <td>0.000878</td>\n",
       "      <td>1.071592</td>\n",
       "      <td>1.075104</td>\n",
       "      <td>49.829765</td>\n",
       "      <td>1.073422</td>\n",
       "    </tr>\n",
       "    <tr>\n",
       "      <th>2024-07-02</th>\n",
       "      <td>1.073883</td>\n",
       "      <td>1.073537</td>\n",
       "      <td>18</td>\n",
       "      <td>1.073336</td>\n",
       "      <td>0.000869</td>\n",
       "      <td>1.071599</td>\n",
       "      <td>1.075074</td>\n",
       "      <td>52.700127</td>\n",
       "      <td>1.073883</td>\n",
       "    </tr>\n",
       "  </tbody>\n",
       "</table>\n",
       "<p>12365 rows × 9 columns</p>\n",
       "</div>"
      ],
      "text/plain": [
       "                High       Low  Time    SMA-20    STD-20  Lower_BB-20  \\\n",
       "Date                                                                    \n",
       "2022-07-04  1.043079  1.042427    20  1.043630  0.001015     1.041600   \n",
       "2022-07-04  1.042862  1.042427    21  1.043570  0.001043     1.041483   \n",
       "2022-07-04  1.042862  1.042210    22  1.043505  0.001073     1.041359   \n",
       "2022-07-04  1.043297  1.042535    23  1.043478  0.001080     1.041318   \n",
       "2022-07-05  1.043841  1.042970     0  1.043510  0.001073     1.041363   \n",
       "...              ...       ...   ...       ...       ...          ...   \n",
       "2024-07-02  1.074807  1.073422    14  1.073342  0.000878     1.071587   \n",
       "2024-07-02  1.074576  1.072846    15  1.073411  0.000919     1.071574   \n",
       "2024-07-02  1.074691  1.073653    16  1.073394  0.000906     1.071582   \n",
       "2024-07-02  1.073883  1.073422    17  1.073348  0.000878     1.071592   \n",
       "2024-07-02  1.073883  1.073537    18  1.073336  0.000869     1.071599   \n",
       "\n",
       "            Upper_BB-20     RSI-20     Close  \n",
       "Date                                          \n",
       "2022-07-04     1.045659  40.953307  1.042644  \n",
       "2022-07-04     1.045657  40.088042  1.042535  \n",
       "2022-07-04     1.045651  39.201599  1.042427  \n",
       "2022-07-04     1.045637  45.647253  1.042970  \n",
       "2022-07-05     1.045657  52.173504  1.043623  \n",
       "...                 ...        ...       ...  \n",
       "2024-07-02     1.075098  57.674337  1.074576  \n",
       "2024-07-02     1.075249  57.674337  1.074576  \n",
       "2024-07-02     1.075206  52.821508  1.073883  \n",
       "2024-07-02     1.075104  49.829765  1.073422  \n",
       "2024-07-02     1.075074  52.700127  1.073883  \n",
       "\n",
       "[12365 rows x 9 columns]"
      ]
     },
     "execution_count": 37,
     "metadata": {},
     "output_type": "execute_result"
    }
   ],
   "source": [
    "# creating indicators features\n",
    "period = 20\n",
    "sma(data,period)\n",
    "std(data,period)\n",
    "bb(data,period)\n",
    "ema(data,period)\n",
    "#data = data.reset_index(drop=True)\n",
    "rsi(data,period)\n",
    "\n",
    "# removing unnecessary features\n",
    "features = data.columns.tolist()\n",
    "features.remove(\"Open\")\n",
    "#features.remove(\"Date\")\n",
    "#features.remove(\"Time\")\n",
    "features.remove(\"Close\")\n",
    "features.append(\"Close\")\n",
    "\n",
    "############################################\n",
    "#features.remove(\"STD-20\")\n",
    "features.remove(\"EMA-20\")\n",
    "############################################\n",
    "\n",
    "# selecting features\n",
    "data = data.dropna()\n",
    "data = data[features]\n",
    "data = data.set_index(\"Date\")\n",
    "data"
   ]
  },
  {
   "cell_type": "code",
   "execution_count": 38,
   "metadata": {},
   "outputs": [
    {
     "data": {
      "text/html": [
       "<div>\n",
       "<style scoped>\n",
       "    .dataframe tbody tr th:only-of-type {\n",
       "        vertical-align: middle;\n",
       "    }\n",
       "\n",
       "    .dataframe tbody tr th {\n",
       "        vertical-align: top;\n",
       "    }\n",
       "\n",
       "    .dataframe thead th {\n",
       "        text-align: right;\n",
       "    }\n",
       "</style>\n",
       "<table border=\"1\" class=\"dataframe\">\n",
       "  <thead>\n",
       "    <tr style=\"text-align: right;\">\n",
       "      <th></th>\n",
       "      <th>High</th>\n",
       "      <th>Low</th>\n",
       "      <th>Time</th>\n",
       "      <th>SMA-20</th>\n",
       "      <th>STD-20</th>\n",
       "      <th>Lower_BB-20</th>\n",
       "      <th>Upper_BB-20</th>\n",
       "      <th>RSI-20</th>\n",
       "      <th>Close</th>\n",
       "    </tr>\n",
       "    <tr>\n",
       "      <th>Date</th>\n",
       "      <th></th>\n",
       "      <th></th>\n",
       "      <th></th>\n",
       "      <th></th>\n",
       "      <th></th>\n",
       "      <th></th>\n",
       "      <th></th>\n",
       "      <th></th>\n",
       "      <th></th>\n",
       "    </tr>\n",
       "  </thead>\n",
       "  <tbody>\n",
       "    <tr>\n",
       "      <th>2022-07-04</th>\n",
       "      <td>1.043079</td>\n",
       "      <td>1.042427</td>\n",
       "      <td>20</td>\n",
       "      <td>1.043630</td>\n",
       "      <td>0.001015</td>\n",
       "      <td>1.041600</td>\n",
       "      <td>1.045659</td>\n",
       "      <td>40.953307</td>\n",
       "      <td>1.042535</td>\n",
       "    </tr>\n",
       "    <tr>\n",
       "      <th>2022-07-04</th>\n",
       "      <td>1.042862</td>\n",
       "      <td>1.042427</td>\n",
       "      <td>21</td>\n",
       "      <td>1.043570</td>\n",
       "      <td>0.001043</td>\n",
       "      <td>1.041483</td>\n",
       "      <td>1.045657</td>\n",
       "      <td>40.088042</td>\n",
       "      <td>1.042427</td>\n",
       "    </tr>\n",
       "    <tr>\n",
       "      <th>2022-07-04</th>\n",
       "      <td>1.042862</td>\n",
       "      <td>1.042210</td>\n",
       "      <td>22</td>\n",
       "      <td>1.043505</td>\n",
       "      <td>0.001073</td>\n",
       "      <td>1.041359</td>\n",
       "      <td>1.045651</td>\n",
       "      <td>39.201599</td>\n",
       "      <td>1.042970</td>\n",
       "    </tr>\n",
       "    <tr>\n",
       "      <th>2022-07-04</th>\n",
       "      <td>1.043297</td>\n",
       "      <td>1.042535</td>\n",
       "      <td>23</td>\n",
       "      <td>1.043478</td>\n",
       "      <td>0.001080</td>\n",
       "      <td>1.041318</td>\n",
       "      <td>1.045637</td>\n",
       "      <td>45.647253</td>\n",
       "      <td>1.043623</td>\n",
       "    </tr>\n",
       "    <tr>\n",
       "      <th>2022-07-05</th>\n",
       "      <td>1.043841</td>\n",
       "      <td>1.042970</td>\n",
       "      <td>0</td>\n",
       "      <td>1.043510</td>\n",
       "      <td>0.001073</td>\n",
       "      <td>1.041363</td>\n",
       "      <td>1.045657</td>\n",
       "      <td>52.173504</td>\n",
       "      <td>1.043732</td>\n",
       "    </tr>\n",
       "    <tr>\n",
       "      <th>...</th>\n",
       "      <td>...</td>\n",
       "      <td>...</td>\n",
       "      <td>...</td>\n",
       "      <td>...</td>\n",
       "      <td>...</td>\n",
       "      <td>...</td>\n",
       "      <td>...</td>\n",
       "      <td>...</td>\n",
       "      <td>...</td>\n",
       "    </tr>\n",
       "    <tr>\n",
       "      <th>2024-07-02</th>\n",
       "      <td>1.073653</td>\n",
       "      <td>1.072846</td>\n",
       "      <td>13</td>\n",
       "      <td>1.073273</td>\n",
       "      <td>0.000829</td>\n",
       "      <td>1.071616</td>\n",
       "      <td>1.074930</td>\n",
       "      <td>51.162900</td>\n",
       "      <td>1.074576</td>\n",
       "    </tr>\n",
       "    <tr>\n",
       "      <th>2024-07-02</th>\n",
       "      <td>1.074807</td>\n",
       "      <td>1.073422</td>\n",
       "      <td>14</td>\n",
       "      <td>1.073342</td>\n",
       "      <td>0.000878</td>\n",
       "      <td>1.071587</td>\n",
       "      <td>1.075098</td>\n",
       "      <td>57.674337</td>\n",
       "      <td>1.074576</td>\n",
       "    </tr>\n",
       "    <tr>\n",
       "      <th>2024-07-02</th>\n",
       "      <td>1.074576</td>\n",
       "      <td>1.072846</td>\n",
       "      <td>15</td>\n",
       "      <td>1.073411</td>\n",
       "      <td>0.000919</td>\n",
       "      <td>1.071574</td>\n",
       "      <td>1.075249</td>\n",
       "      <td>57.674337</td>\n",
       "      <td>1.073883</td>\n",
       "    </tr>\n",
       "    <tr>\n",
       "      <th>2024-07-02</th>\n",
       "      <td>1.074691</td>\n",
       "      <td>1.073653</td>\n",
       "      <td>16</td>\n",
       "      <td>1.073394</td>\n",
       "      <td>0.000906</td>\n",
       "      <td>1.071582</td>\n",
       "      <td>1.075206</td>\n",
       "      <td>52.821508</td>\n",
       "      <td>1.073422</td>\n",
       "    </tr>\n",
       "    <tr>\n",
       "      <th>2024-07-02</th>\n",
       "      <td>1.073883</td>\n",
       "      <td>1.073422</td>\n",
       "      <td>17</td>\n",
       "      <td>1.073348</td>\n",
       "      <td>0.000878</td>\n",
       "      <td>1.071592</td>\n",
       "      <td>1.075104</td>\n",
       "      <td>49.829765</td>\n",
       "      <td>1.073883</td>\n",
       "    </tr>\n",
       "  </tbody>\n",
       "</table>\n",
       "<p>12364 rows × 9 columns</p>\n",
       "</div>"
      ],
      "text/plain": [
       "                High       Low  Time    SMA-20    STD-20  Lower_BB-20  \\\n",
       "Date                                                                    \n",
       "2022-07-04  1.043079  1.042427    20  1.043630  0.001015     1.041600   \n",
       "2022-07-04  1.042862  1.042427    21  1.043570  0.001043     1.041483   \n",
       "2022-07-04  1.042862  1.042210    22  1.043505  0.001073     1.041359   \n",
       "2022-07-04  1.043297  1.042535    23  1.043478  0.001080     1.041318   \n",
       "2022-07-05  1.043841  1.042970     0  1.043510  0.001073     1.041363   \n",
       "...              ...       ...   ...       ...       ...          ...   \n",
       "2024-07-02  1.073653  1.072846    13  1.073273  0.000829     1.071616   \n",
       "2024-07-02  1.074807  1.073422    14  1.073342  0.000878     1.071587   \n",
       "2024-07-02  1.074576  1.072846    15  1.073411  0.000919     1.071574   \n",
       "2024-07-02  1.074691  1.073653    16  1.073394  0.000906     1.071582   \n",
       "2024-07-02  1.073883  1.073422    17  1.073348  0.000878     1.071592   \n",
       "\n",
       "            Upper_BB-20     RSI-20     Close  \n",
       "Date                                          \n",
       "2022-07-04     1.045659  40.953307  1.042535  \n",
       "2022-07-04     1.045657  40.088042  1.042427  \n",
       "2022-07-04     1.045651  39.201599  1.042970  \n",
       "2022-07-04     1.045637  45.647253  1.043623  \n",
       "2022-07-05     1.045657  52.173504  1.043732  \n",
       "...                 ...        ...       ...  \n",
       "2024-07-02     1.074930  51.162900  1.074576  \n",
       "2024-07-02     1.075098  57.674337  1.074576  \n",
       "2024-07-02     1.075249  57.674337  1.073883  \n",
       "2024-07-02     1.075206  52.821508  1.073422  \n",
       "2024-07-02     1.075104  49.829765  1.073883  \n",
       "\n",
       "[12364 rows x 9 columns]"
      ]
     },
     "execution_count": 38,
     "metadata": {},
     "output_type": "execute_result"
    }
   ],
   "source": [
    "data[\"Close\"] = data[\"Close\"].shift(-1)\n",
    "data = data.iloc[:-1]\n",
    "data"
   ]
  },
  {
   "cell_type": "code",
   "execution_count": 39,
   "metadata": {},
   "outputs": [
    {
     "data": {
      "text/plain": [
       "array([[ 0.01162507,  0.03141718,  0.73913043, ...,  0.0177283 ,\n",
       "        -0.23866916,  0.0270904 ],\n",
       "       [ 0.00908632,  0.03141718,  0.82608696, ...,  0.01769463,\n",
       "        -0.26033029,  0.02582641],\n",
       "       [ 0.00908632,  0.02887927,  0.91304348, ...,  0.01762427,\n",
       "        -0.28252159,  0.03215329],\n",
       "       ...,\n",
       "       [ 0.37916891,  0.38666389,  0.30434783, ...,  0.37488973,\n",
       "         0.17992696,  0.39194572],\n",
       "       [ 0.38051688,  0.39607906,  0.39130435, ...,  0.37436589,\n",
       "         0.05844071,  0.38657898],\n",
       "       [ 0.3710894 ,  0.39338801,  0.47826087, ...,  0.37313561,\n",
       "        -0.01645491,  0.39194572]])"
      ]
     },
     "execution_count": 39,
     "metadata": {},
     "output_type": "execute_result"
    }
   ],
   "source": [
    "data = data.to_numpy()\n",
    "scaler = MinMaxScaler(feature_range=(-1,1))\n",
    "data = scaler.fit_transform(data)\n",
    "data\n"
   ]
  },
  {
   "cell_type": "markdown",
   "metadata": {},
   "source": [
    "# Defining model"
   ]
  },
  {
   "cell_type": "code",
   "execution_count": 40,
   "metadata": {},
   "outputs": [
    {
     "data": {
      "text/plain": [
       "RNN(\n",
       "  (rnn): RNN(1, 4, batch_first=True)\n",
       "  (fc): Linear(in_features=4, out_features=1, bias=True)\n",
       ")"
      ]
     },
     "execution_count": 40,
     "metadata": {},
     "output_type": "execute_result"
    }
   ],
   "source": [
    "class RNN(nn.Module):\n",
    "    def __init__(self, input_size, hidden_size, num_stacked_layers):\n",
    "        super(RNN,self).__init__()\n",
    "        self.hidden_size = hidden_size\n",
    "        self.num_stacked_layers = num_stacked_layers\n",
    "        self.rnn = nn.RNN(input_size, hidden_size, num_stacked_layers, batch_first = True)\n",
    "        self.fc = nn.Linear(hidden_size, 1)\n",
    "\n",
    "    def forward(self, x: torch.Tensor):\n",
    "        batch_size = x.size(0)\n",
    "        h0 = torch.zeros(self.num_stacked_layers, batch_size, self.hidden_size).to(device)\n",
    "        c0 = torch.zeros(self.num_stacked_layers, batch_size, self.hidden_size).to(device)\n",
    "\n",
    "        out, _ = self.rnn(x, h0)\n",
    "        out = self.fc(out[:, -1, :])\n",
    "        return out\n",
    "    \n",
    "model = RNN(1,4,1)\n",
    "model"
   ]
  },
  {
   "cell_type": "code",
   "execution_count": 41,
   "metadata": {},
   "outputs": [
    {
     "data": {
      "text/plain": [
       "((12364, 8), (12364,))"
      ]
     },
     "execution_count": 41,
     "metadata": {},
     "output_type": "execute_result"
    }
   ],
   "source": [
    "X = data[:, 1:]\n",
    "y = data[:, 0]\n",
    "\n",
    "X.shape, y.shape"
   ]
  },
  {
   "cell_type": "code",
   "execution_count": 42,
   "metadata": {},
   "outputs": [
    {
     "data": {
      "text/plain": [
       "((9273, 8), (3091, 8), (9273,), (3091,))"
      ]
     },
     "execution_count": 42,
     "metadata": {},
     "output_type": "execute_result"
    }
   ],
   "source": [
    "split_index = int(len(X) * 0.75)\n",
    "\n",
    "# splitting the data\n",
    "X_train, X_test = np.array(X[:split_index]), np.array(X[split_index:])\n",
    "y_train, y_test = np.array(y[:split_index]), np.array(y[split_index:])\n",
    "\n",
    "X_train.shape, X_test.shape, y_train.shape, y_test.shape"
   ]
  },
  {
   "cell_type": "code",
   "execution_count": 43,
   "metadata": {},
   "outputs": [],
   "source": [
    "# reshaping the data\n",
    "num_of_features = X.shape[1]\n",
    "X_train = X_train.reshape((-1, num_of_features, 1))\n",
    "X_test = X_test.reshape((-1, num_of_features, 1))\n",
    "\n",
    "y_train = y_train.reshape((-1, 1))\n",
    "y_test = y_test.reshape((-1, 1))"
   ]
  },
  {
   "cell_type": "code",
   "execution_count": 44,
   "metadata": {},
   "outputs": [
    {
     "data": {
      "text/plain": [
       "8"
      ]
     },
     "execution_count": 44,
     "metadata": {},
     "output_type": "execute_result"
    }
   ],
   "source": [
    "num_of_features"
   ]
  },
  {
   "cell_type": "code",
   "execution_count": 45,
   "metadata": {},
   "outputs": [
    {
     "data": {
      "text/plain": [
       "((9273, 8, 1), (3091, 8, 1), (9273, 1), (3091, 1))"
      ]
     },
     "execution_count": 45,
     "metadata": {},
     "output_type": "execute_result"
    }
   ],
   "source": [
    "X_train.shape, X_test.shape, y_train.shape, y_test.shape"
   ]
  },
  {
   "cell_type": "code",
   "execution_count": 46,
   "metadata": {},
   "outputs": [
    {
     "data": {
      "text/plain": [
       "(torch.Size([9273, 8, 1]),\n",
       " torch.Size([3091, 8, 1]),\n",
       " torch.Size([9273, 1]),\n",
       " torch.Size([3091, 1]))"
      ]
     },
     "execution_count": 46,
     "metadata": {},
     "output_type": "execute_result"
    }
   ],
   "source": [
    "X_train = torch.tensor(X_train).float()\n",
    "y_train = torch.tensor(y_train).float()\n",
    "X_test = torch.tensor(X_test).float()\n",
    "y_test = torch.tensor(y_test).float()\n",
    "\n",
    "X_train.shape, X_test.shape, y_train.shape, y_test.shape"
   ]
  },
  {
   "cell_type": "code",
   "execution_count": 47,
   "metadata": {},
   "outputs": [],
   "source": [
    "class RNNDataset(Dataset):\n",
    "    def __init__(self, X, y) -> None:\n",
    "        self.X = X\n",
    "        self.y = y\n",
    "    \n",
    "    def __len__(self):\n",
    "        return len(self.X)\n",
    "    \n",
    "    def __getitem__(self, index):\n",
    "        return self.X[index], self.y[index]\n",
    "    \n",
    "train_dataset = RNNDataset(X_train, y_train)\n",
    "test_dataset = RNNDataset(X_test, y_test)"
   ]
  },
  {
   "cell_type": "code",
   "execution_count": 48,
   "metadata": {},
   "outputs": [],
   "source": [
    "batch_size = 8\n",
    "\n",
    "train_loader = DataLoader(train_dataset, batch_size=batch_size, shuffle=True)\n",
    "test_loader = DataLoader(test_dataset, batch_size=batch_size, shuffle=False)"
   ]
  },
  {
   "cell_type": "code",
   "execution_count": 49,
   "metadata": {},
   "outputs": [],
   "source": [
    "def train_one_epoch():\n",
    "    model.train(True)\n",
    "    print(f'Epoch: {epoch + 1}')\n",
    "    running_loss = 0.0\n",
    "\n",
    "    for batch_index, batch in enumerate(train_loader):\n",
    "        x_batch, y_batch = batch[0].to(device), batch[1].to(device)\n",
    "\n",
    "        output = model(x_batch)\n",
    "        loss = loss_function(output, y_batch)\n",
    "        running_loss += loss.item()\n",
    "\n",
    "        optimizer.zero_grad()\n",
    "        loss.backward()\n",
    "        optimizer.step()\n",
    "\n",
    "        if batch_index % 100 == 99:  # print every 100 batches\n",
    "            avg_loss_across_batches = running_loss / 100\n",
    "            print('Batch {0}, Loss: {1:.3f}'.format(batch_index+1,\n",
    "                                                    avg_loss_across_batches))\n",
    "            running_loss = 0.0\n",
    "    print()"
   ]
  },
  {
   "cell_type": "code",
   "execution_count": 50,
   "metadata": {},
   "outputs": [],
   "source": [
    "def validate_one_epoch():\n",
    "    model.train(False)\n",
    "    running_loss = 0.0\n",
    "\n",
    "    for batch_index, batch in enumerate(test_loader):\n",
    "        x_batch, y_batch = batch[0].to(device), batch[1].to(device)\n",
    "\n",
    "        with torch.no_grad():\n",
    "            output = model(x_batch)\n",
    "            loss = loss_function(output, y_batch)\n",
    "            running_loss += loss.item()\n",
    "\n",
    "    avg_loss_across_batches = running_loss / len(test_loader)\n",
    "\n",
    "    print('Val Loss: {0:.3f}'.format(avg_loss_across_batches))\n",
    "    print('***************************************************')\n",
    "    print()"
   ]
  },
  {
   "cell_type": "code",
   "execution_count": 51,
   "metadata": {},
   "outputs": [
    {
     "name": "stdout",
     "output_type": "stream",
     "text": [
      "Epoch: 1\n",
      "Batch 100, Loss: 0.262\n",
      "Batch 200, Loss: 0.186\n",
      "Batch 300, Loss: 0.116\n",
      "Batch 400, Loss: 0.031\n",
      "Batch 500, Loss: 0.006\n",
      "Batch 600, Loss: 0.004\n",
      "Batch 700, Loss: 0.003\n",
      "Batch 800, Loss: 0.003\n",
      "Batch 900, Loss: 0.003\n",
      "Batch 1000, Loss: 0.002\n",
      "Batch 1100, Loss: 0.002\n",
      "\n",
      "Val Loss: 0.001\n",
      "***************************************************\n",
      "\n",
      "Epoch: 2\n",
      "Batch 100, Loss: 0.003\n",
      "Batch 200, Loss: 0.002\n",
      "Batch 300, Loss: 0.002\n",
      "Batch 400, Loss: 0.002\n",
      "Batch 500, Loss: 0.002\n",
      "Batch 600, Loss: 0.002\n",
      "Batch 700, Loss: 0.002\n",
      "Batch 800, Loss: 0.002\n",
      "Batch 900, Loss: 0.002\n",
      "Batch 1000, Loss: 0.001\n",
      "Batch 1100, Loss: 0.001\n",
      "\n",
      "Val Loss: 0.000\n",
      "***************************************************\n",
      "\n",
      "Epoch: 3\n",
      "Batch 100, Loss: 0.001\n",
      "Batch 200, Loss: 0.001\n",
      "Batch 300, Loss: 0.001\n",
      "Batch 400, Loss: 0.001\n",
      "Batch 500, Loss: 0.001\n",
      "Batch 600, Loss: 0.001\n",
      "Batch 700, Loss: 0.001\n",
      "Batch 800, Loss: 0.001\n",
      "Batch 900, Loss: 0.001\n",
      "Batch 1000, Loss: 0.001\n",
      "Batch 1100, Loss: 0.001\n",
      "\n",
      "Val Loss: 0.000\n",
      "***************************************************\n",
      "\n"
     ]
    }
   ],
   "source": [
    "learning_rate = 0.001\n",
    "num_epochs = 3\n",
    "loss_function = nn.MSELoss()\n",
    "optimizer = torch.optim.Adam(model.parameters(), lr=learning_rate)\n",
    "\n",
    "for epoch in range(num_epochs):\n",
    "    train_one_epoch()\n",
    "    validate_one_epoch()"
   ]
  },
  {
   "cell_type": "code",
   "execution_count": 52,
   "metadata": {},
   "outputs": [
    {
     "data": {
      "image/png": "[encoded data removed]",
      "text/plain": [
       "<Figure size 640x480 with 1 Axes>"
      ]
     },
     "metadata": {},
     "output_type": "display_data"
    }
   ],
   "source": [
    "with torch.no_grad():\n",
    "    predicted = model(X_train.to(device)).to('cpu').numpy()\n",
    "\n",
    "plt.plot(y_train, label='Actual Close')\n",
    "plt.plot(predicted, label='Predicted Close')\n",
    "plt.xlabel('Day')\n",
    "plt.ylabel('Close')\n",
    "plt.legend()\n",
    "plt.show()"
   ]
  },
  {
   "cell_type": "code",
   "execution_count": 53,
   "metadata": {},
   "outputs": [
    {
     "data": {
      "text/plain": [
       "array([1.04209062, 1.04194612, 1.04203879, ..., 1.09605243, 1.09547988,\n",
       "       1.09507645])"
      ]
     },
     "execution_count": 53,
     "metadata": {},
     "output_type": "execute_result"
    }
   ],
   "source": [
    "train_predictions = predicted.flatten()\n",
    "\n",
    "dummies = np.zeros((X_train.shape[0], num_of_features+1))\n",
    "dummies[:, 0] = train_predictions\n",
    "dummies = scaler.inverse_transform(dummies)\n",
    "\n",
    "train_predictions = dc(dummies[:, 0])\n",
    "train_predictions"
   ]
  },
  {
   "cell_type": "code",
   "execution_count": 54,
   "metadata": {},
   "outputs": [
    {
     "data": {
      "text/plain": [
       "array([1.04307914, 1.04286158, 1.04286158, ..., 1.09637094, 1.09601057,\n",
       "       1.0958904 ])"
      ]
     },
     "execution_count": 54,
     "metadata": {},
     "output_type": "execute_result"
    }
   ],
   "source": [
    "dummies = np.zeros((X_train.shape[0], num_of_features+1))\n",
    "dummies[:, 0] = y_train.flatten()\n",
    "dummies = scaler.inverse_transform(dummies)\n",
    "\n",
    "new_y_train = dc(dummies[:, 0])\n",
    "new_y_train"
   ]
  },
  {
   "cell_type": "code",
   "execution_count": 55,
   "metadata": {},
   "outputs": [
    {
     "data": {
      "image/png": "[encoded data removed]",
      "text/plain": [
       "<Figure size 640x480 with 1 Axes>"
      ]
     },
     "metadata": {},
     "output_type": "display_data"
    }
   ],
   "source": [
    "plt.plot(new_y_train, label='Actual Close')\n",
    "plt.plot(train_predictions, label='Predicted Close')\n",
    "plt.xlabel('Day')\n",
    "plt.ylabel('Close')\n",
    "plt.legend()\n",
    "plt.show()"
   ]
  },
  {
   "cell_type": "code",
   "execution_count": 56,
   "metadata": {},
   "outputs": [
    {
     "data": {
      "text/plain": [
       "array([1.09469945, 1.09430555, 1.09406954, ..., 1.07668967, 1.07609713,\n",
       "       1.07595811])"
      ]
     },
     "execution_count": 56,
     "metadata": {},
     "output_type": "execute_result"
    }
   ],
   "source": [
    "test_predictions = model(X_test.to(device)).detach().cpu().numpy().flatten()\n",
    "\n",
    "dummies = np.zeros((X_test.shape[0], num_of_features+1))\n",
    "dummies[:, 0] = test_predictions\n",
    "dummies = scaler.inverse_transform(dummies)\n",
    "\n",
    "test_predictions = dc(dummies[:, 0])\n",
    "test_predictions"
   ]
  },
  {
   "cell_type": "code",
   "execution_count": 57,
   "metadata": {},
   "outputs": [
    {
     "data": {
      "text/plain": [
       "array([1.0952903 , 1.0952903 , 1.09457087, ..., 1.07457554, 1.07469106,\n",
       "       1.07388318])"
      ]
     },
     "execution_count": 57,
     "metadata": {},
     "output_type": "execute_result"
    }
   ],
   "source": [
    "dummies = np.zeros((X_test.shape[0], num_of_features+1))\n",
    "dummies[:, 0] = y_test.flatten()\n",
    "dummies = scaler.inverse_transform(dummies)\n",
    "\n",
    "new_y_test = dc(dummies[:, 0])\n",
    "new_y_test"
   ]
  },
  {
   "cell_type": "code",
   "execution_count": 58,
   "metadata": {},
   "outputs": [
    {
     "data": {
      "image/png": "[encoded data removed]",
      "text/plain": [
       "<Figure size 640x480 with 1 Axes>"
      ]
     },
     "metadata": {},
     "output_type": "display_data"
    }
   ],
   "source": [
    "plt.plot(new_y_test, label='Actual Close')\n",
    "plt.plot(test_predictions, label='Predicted Close')\n",
    "plt.xlabel('Day')\n",
    "plt.ylabel('Close')\n",
    "plt.legend()\n",
    "plt.show()"
   ]
  },
  {
   "cell_type": "code",
   "execution_count": 59,
   "metadata": {},
   "outputs": [],
   "source": [
    "predicted_price = test_predictions[-1]"
   ]
  },
  {
   "cell_type": "code",
   "execution_count": 60,
   "metadata": {},
   "outputs": [],
   "source": [
    "def evaluate_model(model, X_test, y_test):\n",
    "    # Ensure the model is in evaluation mode\n",
    "    model.eval()\n",
    "\n",
    "    # Perform the forward pass\n",
    "    with torch.no_grad():\n",
    "        predictions = model(X_test)\n",
    "\n",
    "    # Detach the predictions tensor and convert to numpy\n",
    "    predictions_np = predictions.detach().numpy()\n",
    "\n",
    "    return mean_squared_error(y_test, predictions_np)\n",
    "\n",
    "mse = evaluate_model(model, X_test, y_test)"
   ]
  },
  {
   "cell_type": "code",
   "execution_count": 61,
   "metadata": {},
   "outputs": [],
   "source": [
    "def get_current_price(symbol:str):\n",
    "    todays_data = yf.Ticker(symbol).history(period='1d')\n",
    "    return todays_data['Close'].iloc[0]\n",
    "\n",
    "current_price = get_current_price(ticker)"
   ]
  },
  {
   "cell_type": "code",
   "execution_count": 62,
   "metadata": {},
   "outputs": [
    {
     "name": "stdout",
     "output_type": "stream",
     "text": [
      "EURUSD=X Stock Prices\n",
      "\n",
      "Stock Price Now:  1.07\n",
      "Predicted Stock Price:  1.08\n",
      "Mean Squared Error on Test Data:  0.00\n"
     ]
    }
   ],
   "source": [
    "print(f'{ticker} Stock Prices')\n",
    "print(f'\\nStock Price Now: {current_price: 0.2f}')\n",
    "print(f'Predicted Stock Price: {predicted_price: 0.2f}')\n",
    "print(f'Mean Squared Error on Test Data: {mse: 0.2f}')"
   ]
  }
 ],
 "metadata": {
  "kernelspec": {
   "display_name": "venv",
   "language": "python",
   "name": "python3"
  },
  "language_info": {
   "codemirror_mode": {
    "name": "ipython",
    "version": 3
   },
   "file_extension": ".py",
   "mimetype": "text/x-python",
   "name": "python",
   "nbconvert_exporter": "python",
   "pygments_lexer": "ipython3",
   "version": "3.10.12"
  }
 },
 "nbformat": 4,
 "nbformat_minor": 2
}
